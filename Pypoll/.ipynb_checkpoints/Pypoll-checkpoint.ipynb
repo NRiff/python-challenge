{
 "cells": [
  {
   "cell_type": "code",
   "execution_count": 1,
   "metadata": {},
   "outputs": [],
   "source": [
    "import pandas as pd"
   ]
  },
  {
   "cell_type": "code",
   "execution_count": 2,
   "metadata": {},
   "outputs": [],
   "source": [
    "csv_path = \"election_data.csv\""
   ]
  },
  {
   "cell_type": "code",
   "execution_count": 3,
   "metadata": {},
   "outputs": [
    {
     "data": {
      "text/html": [
       "<div>\n",
       "<style scoped>\n",
       "    .dataframe tbody tr th:only-of-type {\n",
       "        vertical-align: middle;\n",
       "    }\n",
       "\n",
       "    .dataframe tbody tr th {\n",
       "        vertical-align: top;\n",
       "    }\n",
       "\n",
       "    .dataframe thead th {\n",
       "        text-align: right;\n",
       "    }\n",
       "</style>\n",
       "<table border=\"1\" class=\"dataframe\">\n",
       "  <thead>\n",
       "    <tr style=\"text-align: right;\">\n",
       "      <th></th>\n",
       "      <th>Voter ID</th>\n",
       "      <th>County</th>\n",
       "      <th>Candidate</th>\n",
       "    </tr>\n",
       "  </thead>\n",
       "  <tbody>\n",
       "    <tr>\n",
       "      <th>0</th>\n",
       "      <td>12864552</td>\n",
       "      <td>Marsh</td>\n",
       "      <td>Khan</td>\n",
       "    </tr>\n",
       "    <tr>\n",
       "      <th>1</th>\n",
       "      <td>17444633</td>\n",
       "      <td>Marsh</td>\n",
       "      <td>Correy</td>\n",
       "    </tr>\n",
       "    <tr>\n",
       "      <th>2</th>\n",
       "      <td>19330107</td>\n",
       "      <td>Marsh</td>\n",
       "      <td>Khan</td>\n",
       "    </tr>\n",
       "    <tr>\n",
       "      <th>3</th>\n",
       "      <td>19865775</td>\n",
       "      <td>Queen</td>\n",
       "      <td>Khan</td>\n",
       "    </tr>\n",
       "    <tr>\n",
       "      <th>4</th>\n",
       "      <td>11927875</td>\n",
       "      <td>Marsh</td>\n",
       "      <td>Khan</td>\n",
       "    </tr>\n",
       "  </tbody>\n",
       "</table>\n",
       "</div>"
      ],
      "text/plain": [
       "   Voter ID County Candidate\n",
       "0  12864552  Marsh      Khan\n",
       "1  17444633  Marsh    Correy\n",
       "2  19330107  Marsh      Khan\n",
       "3  19865775  Queen      Khan\n",
       "4  11927875  Marsh      Khan"
      ]
     },
     "execution_count": 3,
     "metadata": {},
     "output_type": "execute_result"
    }
   ],
   "source": [
    "py_poll_df= pd.read_csv(csv_path)\n",
    "py_poll_df.head()"
   ]
  },
  {
   "cell_type": "code",
   "execution_count": 11,
   "metadata": {},
   "outputs": [],
   "source": [
    "#calculated the total number of votes overall\n",
    "\n",
    "Total_number_votes=py_poll_df[\"Voter ID\"].count()"
   ]
  },
  {
   "cell_type": "code",
   "execution_count": 5,
   "metadata": {},
   "outputs": [
    {
     "data": {
      "text/plain": [
       "4"
      ]
     },
     "execution_count": 5,
     "metadata": {},
     "output_type": "execute_result"
    }
   ],
   "source": [
    "Candidate_count = len(py_poll_df[\"Candidate\"].unique())\n",
    "Candidate_count"
   ]
  },
  {
   "cell_type": "code",
   "execution_count": 6,
   "metadata": {},
   "outputs": [],
   "source": [
    "#calculating the total number of votes each candidate reived\n",
    "\n",
    "khan_votes_df = py_poll_df.loc[py_poll_df[\"Candidate\"] == \"Khan\"]\n",
    "total_khan_votes = khan_votes_df[\"Voter ID\"].count()\n",
    "\n",
    "correy_votes_df = py_poll_df.loc[py_poll_df[\"Candidate\"] == \"Correy\"]\n",
    "total_correy_votes = correy_votes_df[\"Voter ID\"].count()\n",
    "\n",
    "li_votes_df = py_poll_df.loc[py_poll_df[\"Candidate\"] == \"Li\"]\n",
    "total_li_votes = li_votes_df[\"Voter ID\"].count()\n",
    "\n",
    "total_tooley_votes= Total_number_votes-(total_khan_votes + total_correy_votes + total_li_votes)\n"
   ]
  },
  {
   "cell_type": "code",
   "execution_count": 7,
   "metadata": {},
   "outputs": [],
   "source": [
    "# Percentage of votes each candadiate had based on votes to total votes\n",
    "\n",
    "khan_percent_quote= (total_khan_votes/Total_number_votes)*100\n",
    "correy_percent_quote= (total_correy_votes/Total_number_votes)*100\n",
    "li_percent_quote= (total_li_votes/Total_number_votes)*100\n",
    "tooley_percent_quote= (total_tooley_votes/Total_number_votes)*100\n",
    "\n",
    "# Amended rounding for percent of votes\n",
    "khan_percent_quote= round(khan_percent_quote,0)\n",
    "correy_percent_quote= round(correy_percent_quote,0)\n",
    "li_percent_quote= round(li_percent_quote,0)\n",
    "tooley_percent_quote= round(tooley_percent_quote,0)\n"
   ]
  },
  {
   "cell_type": "code",
   "execution_count": 9,
   "metadata": {},
   "outputs": [
    {
     "name": "stdout",
     "output_type": "stream",
     "text": [
      "Election Results\n",
      "-------------------------------------------\n",
      "Total Votes: 1048575\n",
      "-------------------------------------------\n",
      "Khan: 63.0% (661583)\n",
      "Correy: 20.0% (209046)\n",
      "Li: 14.0% (146360)\n",
      "O'Tooley: 3.0% (31586)\n",
      "-------------------------------------------\n",
      "Winner: Khan\n"
     ]
    }
   ],
   "source": [
    "#Print out finding into below diagram\n",
    "\n",
    "print(\"Election Results\")\n",
    "print(\"-------------------------------------------\")\n",
    "print(f\"Total Votes: {Total_number_votes}\")\n",
    "print(\"-------------------------------------------\")\n",
    "print(f\"Khan: {khan_percent_quote}% ({total_khan_votes})\")\n",
    "print(f\"Correy: {correy_percent_quote}% ({total_correy_votes})\")\n",
    "print(f\"Li: {li_percent_quote}% ({total_li_votes})\")\n",
    "print(f\"O'Tooley: {tooley_percent_quote}% ({total_tooley_votes})\")\n",
    "print(\"-------------------------------------------\")\n",
    "print(\"Winner: Khan\")"
   ]
  }
 ],
 "metadata": {
  "kernelspec": {
   "display_name": "Python 3",
   "language": "python",
   "name": "python3"
  },
  "language_info": {
   "codemirror_mode": {
    "name": "ipython",
    "version": 3
   },
   "file_extension": ".py",
   "mimetype": "text/x-python",
   "name": "python",
   "nbconvert_exporter": "python",
   "pygments_lexer": "ipython3",
   "version": "3.6.9"
  }
 },
 "nbformat": 4,
 "nbformat_minor": 2
}
